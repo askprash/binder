{
 "cells": [
  {
   "cell_type": "code",
   "execution_count": null,
   "metadata": {},
   "outputs": [],
   "source": [
    "from __future__ import print_function\n",
    "import os\n",
    "import ipywidgets as widgets\n",
    "from ipywidgets import interact, interact_manual, fixed\n",
    "from IPython.display import Image\n",
    "import matplotlib.pyplot as plt\n",
    "from labellines import labelLine, labelLines\n",
    "from cycler import cycler\n",
    "\n",
    "import sys\n",
    "import time\n",
    "import numpy as np\n"
    
   ]
  },
  {
   "cell_type": "code",
   "execution_count": null,
   "metadata": {
    "code_folding": [
     0,
     7,
     25
    ]
   },
   "outputs": [],
   "source": [
    "def ThermalEff(Comp_eff, Turb_eff, T4qT2, PR, gamma = 1.4):\n",
    "    k = (gamma - 1)/gamma\n",
    "    A = PR**k\n",
    "    Eff_th = (Turb_eff*T4qT2*(1-1/A) - (A-1)/Comp_eff)/(T4qT2 - 1 - (A-1)/Comp_eff)\n",
    "    \n",
    "    return Eff_th\n",
    "    \n",
    "def Work_per_flow(Comp_eff, Turb_eff, T4qT2, PR, gamma = 1.4, turb_comp_works = False):\n",
    "    \"\"\"\n",
    "    Calculates the Wnet/(mair*cp*Tt2)\n",
    "    \"\"\"\n",
    "    k = (gamma - 1)/gamma\n",
    "    A = PR**k\n",
    "    \n",
    "    AvailableWork = Turb_eff*T4qT2*(1-1/A)\n",
    "    CompWork = (A-1)/Comp_eff\n",
    "    Tt3qTt2 = (A-1)/Comp_eff + 1\n",
    "    \n",
    "    Wqflow = AvailableWork - CompWork\n",
    "    \n",
    "    if turb_comp_works:\n",
    "        return Wqflow, AvailableWork, CompWork, Tt3qTt2\n",
    "    else:\n",
    "        return Wqflow\n",
    "    \n",
    "def Work_per_flow_w_PT(Comp_eff, Turb_eff, PowerTurb_eff, T4qT2, PR, gamma = 1.4, details = False):\n",
    "    \"\"\"\n",
    "    Calculates the Wnet/(mair*cp*Tt2) with a power turbine\n",
    "    \"\"\"\n",
    "    \n",
    "    k = (gamma - 1)/gamma\n",
    "    A = PR**k\n",
    "    \n",
    "    CompWqflow = (A-1)/Comp_eff # W_compr/(m_air*cp*Tt2) = (PR**(k) - 1)/eta  \n",
    "    T5qT4      = 1 + CompWqflow/T4qT2\n",
    "    T5qT4_is   = 1 + (T5qT4 - 1)/Turb_eff \n",
    "    P5qP4      = T5qT4_is**(1/k)\n",
    "    P4qP5      = 1/P5qP4\n",
    "    P6qP5      = P4qP5/PR\n",
    "    \n",
    "    T6qT5      = 1 + PowerTurb_eff*(P6qP5**k-1)\n",
    "    \n",
    "    Wqflow = T4qT2*(1 - T6qT5*T5qT4) - CompWqflow\n",
    "#     Wqflow = T4qT2*(1-\n",
    "#                     (1+PowerTurb_eff*\n",
    "#                      (1-1/A*(1/(1-(A-1)/(Turb_eff*Comp_eff*T4qT2))))*(1-(A-1)/(T4qT2*Comp_eff))\n",
    "#                     )\n",
    "#                     -CompWqflow)\n",
    "\n",
    "    \n",
    "    if details:\n",
    "        return Wqflow, T5qT4\n",
    "    else:\n",
    "        return Wqflow\n"
   ]
  },
  {
   "cell_type": "code",
   "execution_count": null,
   "metadata": {
    "code_folding": [
     25
    ]
   },
   "outputs": [],
   "source": [
    "PR = np.linspace(1,60,100)\n",
    "\n",
    "fig, ax = plt.subplots(1,4,figsize=(20,5),dpi =200, sharex = False)\n",
    "\n",
    "cc = cycler(linestyle=['-', '--', '-.'])\n",
    "\n",
    "eta_c = 0.9\n",
    "eta_t = 0.9\n",
    "# for a in ax:\n",
    "#     a.set_prop_cycle(cc)\n",
    "\n",
    "for TR in np.linspace(4,7,3):\n",
    "\n",
    "    ax[0].plot(PR, ThermalEff(eta_c,eta_t,TR,PR), label = round(TR,2))\n",
    "    ax[0].set_ylabel(r'$\\eta_{thermal}$')\n",
    "    \n",
    "    ax[1].plot(PR, Work_per_flow(eta_c,eta_t,TR,PR), label = round(TR,2))\n",
    "    ax[1].set_ylabel(r'$\\frac{\\dot{W}_{net}}{\\dot{m}c_pT_{t2}}$')\n",
    "\n",
    "    ax[2].plot(PR, Work_per_flow(eta_c,eta_t,TR,PR, turb_comp_works=True)[1], label = round(TR,2))\n",
    "    ax[2].set_ylabel(r'$\\frac{\\dot{W}_{avail}}{\\dot{m}c_pT_{t2}}$')\n",
    "    ax[3].plot(PR, Work_per_flow(eta_c,eta_t,TR,PR, turb_comp_works=True)[2], label = 'CompWork', color = 'k')\n",
    "    #ax[3].plot(PR, TR-Work_per_flow(eta_c,eta_t,TR,PR, turb_comp_works=True)[3], label = r'$(T_{t4} - T_{t3})/T_{t2}$', color = 'r')\n",
    "    ax[3].set_ylabel(r'$\\frac{\\dot{W}_{comp}}{\\dot{m}c_pT_{t2}}$')\n",
    "    \n",
    "for a in ax:\n",
    "    a.grid(alpha = 0.8)\n",
    "    a.set_xlabel(r'Pressure ratio $\\pi = \\frac{P_{t3}}{P_{t2}}}$')\n",
    "    lines = a.get_lines()\n",
    "    l1=lines[-1]\n",
    "    labelLine(l1,55,label=r'$TR=${}'.format(l1.get_label()),ha='center',va='center',align = True, fontsize = 10)\n",
    "    labelLines(lines[:-1], xvals=(20, 60), align=True,fontsize = 10)\n",
    "    \n",
    "plt.tight_layout()"
   ]
  },
  
  {
   "cell_type": "code",
   "execution_count": null,
   "metadata": {},
   "outputs": [],
   "source": [
    "\n",
    "TurbEff_slider = widgets.FloatSlider(\n",
    "    value=0.95,\n",
    "    min=0.3,\n",
    "    max=1.0,\n",
    "    step=0.05,\n",
    "    description=r\"$\\eta_{comp/turb}$:\",\n",
    "    readout_format='.2f',\n",
    "    fontsize = 30,\n",
    ")\n",
    "def f(x):\n",
    "    # Vary comp Eff\n",
    "    PR = np.linspace(1,60,100)\n",
    "\n",
    "    fig, ax = plt.subplots(2,1,figsize=(8,6),dpi =150, sharex = False)\n",
    "\n",
    "    cc = cycler(linestyle=['-', '--', '-.'])\n",
    "\n",
    "    eta_c = x\n",
    "    eta_t = x\n",
    "    eta_pt = 0.95\n",
    "    # for a in ax:\n",
    "    #     a.set_prop_cycle(cc)\n",
    "    TR = 5\n",
    "#     for eta_c in np.linspace(0.7,0.95,5):\n",
    "\n",
    "    ax[0].plot(PR, ThermalEff(eta_c,eta_t,TR,PR), label = round(eta_c,2))\n",
    "    ax[0].set_ylabel(r'$\\eta_{thermal}$')\n",
    "    ax[0].set_ylim([0,0.8])\n",
    "\n",
    "    ax[1].plot(PR, Work_per_flow(eta_c,eta_t,TR,PR), label = round(eta_c,2) )\n",
    "    ax[1].set_ylabel(r'$\\frac{\\dot{W}_{net}}{\\dot{m}c_pT_{t2}}$')\n",
    "    ax[1].set_xlabel(r'Pressure ratio $\\pi = \\frac{P_{t3}}{P_{t2}}}$')\n",
    "    ax[1].set_ylim([0,2])\n",
    "    for a in ax:\n",
    "        a.grid(alpha = 0.8)\n",
    "        \n",
    "#         lines = a.get_lines()\n",
    "#         l1=lines[-1]\n",
    "#         labelLine(l1,55,label=r'$\\eta_c=${}'.format(l1.get_label()),ha='center',va='center',align = True, fontsize = 9,\n",
    "#                   bbox=dict(fc = \"white\", ec = \"none\",pad = 0))\n",
    "#         labelLines(lines[:-1], xvals=(10, 60), align=True,fontsize = 9,\n",
    "#                    bbox=dict(fc = \"white\", ec = \"none\", pad = 0))\n",
    "\n",
    "    title = r\"Comp/Turb. $\\eta$ = \"+str(x)\n",
    "    fig.suptitle(title)"
   ]
  },
  {
   "cell_type": "code",
   "execution_count": null,
   "metadata": {},
   "outputs": [],
   "source": [
    "interact(f, x = TurbEff_slider)"
   ]
  },
  {
   "cell_type": "code",
   "execution_count": null,
   "metadata": {},
   "outputs": [],
   "source": []
  }
 ],
 "metadata": {
  "kernelspec": {
   "display_name": "Prash's Custom Environment",
   "language": "python",
   "name": "prash"
  },
  "language_info": {
   "codemirror_mode": {
    "name": "ipython",
    "version": 3
   },
   "file_extension": ".py",
   "mimetype": "text/x-python",
   "name": "python",
   "nbconvert_exporter": "python",
   "pygments_lexer": "ipython3",
   "version": "3.7.0"
  },
  "varInspector": {
   "cols": {
    "lenName": 16,
    "lenType": 16,
    "lenVar": 40
   },
   "kernels_config": {
    "python": {
     "delete_cmd_postfix": "",
     "delete_cmd_prefix": "del ",
     "library": "var_list.py",
     "varRefreshCmd": "print(var_dic_list())"
    },
    "r": {
     "delete_cmd_postfix": ") ",
     "delete_cmd_prefix": "rm(",
     "library": "var_list.r",
     "varRefreshCmd": "cat(var_dic_list()) "
    }
   },
   "types_to_exclude": [
    "module",
    "function",
    "builtin_function_or_method",
    "instance",
    "_Feature"
   ],
   "window_display": false
  }
 },
 "nbformat": 4,
 "nbformat_minor": 2
}
